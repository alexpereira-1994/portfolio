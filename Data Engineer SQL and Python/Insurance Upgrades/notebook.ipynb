{
 "cells": [
  {
   "cell_type": "markdown",
   "metadata": {
    "dc": {
     "key": "5"
    },
    "deletable": false,
    "editable": false,
    "run_control": {
     "frozen": true
    },
    "tags": [
     "context"
    ]
   },
   "source": [
    "## Practical Exam: Insurance Upgrades\n",
    "<p>Travel Assured provides travel services to its customers. They are based in the United States.</p>\n",
    "<p>Travel Assured provides everything from flights and hotel bookings to holiday insurance.</p>\n",
    "<p>The sales team wants to sell upgrades to customers. So they can do this, it is vital that the data is clean, accurate and available for reporting. </p>\n",
    "<p>They need your help to prepare some data before they start to run a new promotion. </p>\n",
    "<p>The data you need is in the database named <code>insurance</code>. </p>\n",
    "<p><strong>Database Schema</strong></p>\n",
    "<p><img src=\"https://assets.datacamp.com/production/project_1642/img/schema.png\" alt=\"database schema\"></p>\n",
    "<h2 id=\"task1\">Task 1</h2>\n",
    "<p>The sales team want to use customer information to target their new promotion. But, they think the data may not be clean enough to use. The table below shows what the sales team expect the data types and format to be.</p>\n",
    "<table>\n",
    "<thead>\n",
    "<tr>\n",
    "<th>Column Name</th>\n",
    "<th>Description</th>\n",
    "</tr>\n",
    "</thead>\n",
    "<tbody>\n",
    "<tr>\n",
    "<td>customer_id</td>\n",
    "<td>Unique integer (set by the database, can’t take any other value)</td>\n",
    "</tr>\n",
    "<tr>\n",
    "<td>location</td>\n",
    "<td>State names as a lower case string</td>\n",
    "</tr>\n",
    "<tr>\n",
    "<td>age</td>\n",
    "<td>Integer value giving age of customer</td>\n",
    "</tr>\n",
    "<tr>\n",
    "<td>registration_date</td>\n",
    "<td>Date of first registration with company (YYYY-MM-DD)</td>\n",
    "</tr>\n",
    "</tbody>\n",
    "</table>\n",
    "<p>Write a query to ensure that the <code>customer</code> table matches the description provided. </p>"
   ]
  },
  {
   "cell_type": "code",
   "execution_count": 1,
   "metadata": {
    "dc": {
     "key": "5"
    },
    "tags": [
     "sample_code"
    ]
   },
   "outputs": [
    {
     "name": "stdout",
     "output_type": "stream",
     "text": [
      "10 rows affected.\n"
     ]
    },
    {
     "data": {
      "text/html": [
       "<table>\n",
       "    <tr>\n",
       "        <th>customer_id</th>\n",
       "        <th>location</th>\n",
       "        <th>age</th>\n",
       "        <th>registration_date</th>\n",
       "    </tr>\n",
       "    <tr>\n",
       "        <td>1</td>\n",
       "        <td>arkansas</td>\n",
       "        <td>32</td>\n",
       "        <td>2018-10-22</td>\n",
       "    </tr>\n",
       "    <tr>\n",
       "        <td>2</td>\n",
       "        <td>texas</td>\n",
       "        <td>23</td>\n",
       "        <td>2019-03-03</td>\n",
       "    </tr>\n",
       "    <tr>\n",
       "        <td>3</td>\n",
       "        <td>illinois</td>\n",
       "        <td>59</td>\n",
       "        <td>2018-04-12</td>\n",
       "    </tr>\n",
       "    <tr>\n",
       "        <td>4</td>\n",
       "        <td>pennsylvania</td>\n",
       "        <td>39</td>\n",
       "        <td>2018-09-05</td>\n",
       "    </tr>\n",
       "    <tr>\n",
       "        <td>5</td>\n",
       "        <td>new york</td>\n",
       "        <td>71</td>\n",
       "        <td>2019-01-29</td>\n",
       "    </tr>\n",
       "    <tr>\n",
       "        <td>6</td>\n",
       "        <td>arizona</td>\n",
       "        <td>85</td>\n",
       "        <td>2021-07-20</td>\n",
       "    </tr>\n",
       "    <tr>\n",
       "        <td>7</td>\n",
       "        <td>iowa</td>\n",
       "        <td>34</td>\n",
       "        <td>2019-07-05</td>\n",
       "    </tr>\n",
       "    <tr>\n",
       "        <td>8</td>\n",
       "        <td>alabama</td>\n",
       "        <td>59</td>\n",
       "        <td>2020-09-10</td>\n",
       "    </tr>\n",
       "    <tr>\n",
       "        <td>9</td>\n",
       "        <td>california</td>\n",
       "        <td>50</td>\n",
       "        <td>2020-07-20</td>\n",
       "    </tr>\n",
       "    <tr>\n",
       "        <td>10</td>\n",
       "        <td>new jersey</td>\n",
       "        <td>60</td>\n",
       "        <td>2020-06-02</td>\n",
       "    </tr>\n",
       "</table>"
      ],
      "text/plain": [
       "[(1, 'arkansas', 32, datetime.date(2018, 10, 22)),\n",
       " (2, 'texas', 23, datetime.date(2019, 3, 3)),\n",
       " (3, 'illinois', 59, datetime.date(2018, 4, 12)),\n",
       " (4, 'pennsylvania', 39, datetime.date(2018, 9, 5)),\n",
       " (5, 'new york', 71, datetime.date(2019, 1, 29)),\n",
       " (6, 'arizona', 85, datetime.date(2021, 7, 20)),\n",
       " (7, 'iowa', 34, datetime.date(2019, 7, 5)),\n",
       " (8, 'alabama', 59, datetime.date(2020, 9, 10)),\n",
       " (9, 'california', 50, datetime.date(2020, 7, 20)),\n",
       " (10, 'new jersey', 60, datetime.date(2020, 6, 2))]"
      ]
     },
     "execution_count": 1,
     "metadata": {},
     "output_type": "execute_result"
    }
   ],
   "source": [
    "%%sql \n",
    "postgresql:///insurance\n",
    "\n",
    "-- Keep the two lines above\n",
    "-- Start your answers here..\n",
    "\n",
    "SELECT customer_id, \n",
    "      LOWER(location) as location, \n",
    "     SPLIT_PART(age,' ', 1)::INT AS age,\n",
    "    registration_date\n",
    "From customer\n",
    "LIMIT 10;"
   ]
  },
  {
   "cell_type": "markdown",
   "metadata": {
    "dc": {
     "key": "12"
    },
    "deletable": false,
    "editable": false,
    "run_control": {
     "frozen": true
    },
    "tags": [
     "context"
    ]
   },
   "source": [
    "## Task 2\n",
    "<p>You have been informed that there has been a problem in the data entry. Some people who bought a new policy had their purchase type set to NULL instead of New.</p>\n",
    "<p>Return the corrected <code>purchase</code> table.</p>"
   ]
  },
  {
   "cell_type": "code",
   "execution_count": 2,
   "metadata": {
    "dc": {
     "key": "12"
    },
    "tags": [
     "sample_code"
    ]
   },
   "outputs": [
    {
     "name": "stdout",
     "output_type": "stream",
     "text": [
      "10 rows affected.\n"
     ]
    },
    {
     "data": {
      "text/html": [
       "<table>\n",
       "    <tr>\n",
       "        <th>purchase_id</th>\n",
       "        <th>purchase_type</th>\n",
       "    </tr>\n",
       "    <tr>\n",
       "        <td>0c16ed33</td>\n",
       "        <td>New</td>\n",
       "    </tr>\n",
       "    <tr>\n",
       "        <td>8530bd7b</td>\n",
       "        <td>Upgrade</td>\n",
       "    </tr>\n",
       "    <tr>\n",
       "        <td>1697a9d8</td>\n",
       "        <td>Upgrade</td>\n",
       "    </tr>\n",
       "    <tr>\n",
       "        <td>5439a130</td>\n",
       "        <td>Upgrade</td>\n",
       "    </tr>\n",
       "    <tr>\n",
       "        <td>c57c369b</td>\n",
       "        <td>Upgrade</td>\n",
       "    </tr>\n",
       "    <tr>\n",
       "        <td>d9d57db0</td>\n",
       "        <td>New</td>\n",
       "    </tr>\n",
       "    <tr>\n",
       "        <td>3d8ff616</td>\n",
       "        <td>Renewal</td>\n",
       "    </tr>\n",
       "    <tr>\n",
       "        <td>39044c72</td>\n",
       "        <td>Upgrade</td>\n",
       "    </tr>\n",
       "    <tr>\n",
       "        <td>b0a4aaeb</td>\n",
       "        <td>Upgrade</td>\n",
       "    </tr>\n",
       "    <tr>\n",
       "        <td>a5debeaf</td>\n",
       "        <td>Renewal</td>\n",
       "    </tr>\n",
       "</table>"
      ],
      "text/plain": [
       "[('0c16ed33', 'New'),\n",
       " ('8530bd7b', 'Upgrade'),\n",
       " ('1697a9d8', 'Upgrade'),\n",
       " ('5439a130', 'Upgrade'),\n",
       " ('c57c369b', 'Upgrade'),\n",
       " ('d9d57db0', 'New'),\n",
       " ('3d8ff616', 'Renewal'),\n",
       " ('39044c72', 'Upgrade'),\n",
       " ('b0a4aaeb', 'Upgrade'),\n",
       " ('a5debeaf', 'Renewal')]"
      ]
     },
     "execution_count": 2,
     "metadata": {},
     "output_type": "execute_result"
    }
   ],
   "source": [
    "%%sql \n",
    "postgresql:///insurance\n",
    "\n",
    "-- Keep the two lines above\n",
    "-- Start your answers here..\n",
    "\n",
    "SELECT purchase_id, COALESCE(purchase_type, 'New') AS purchase_type\n",
    "FROM purchase\n",
    "LIMIT 10;"
   ]
  },
  {
   "cell_type": "markdown",
   "metadata": {
    "dc": {
     "key": "20"
    },
    "deletable": false,
    "editable": false,
    "run_control": {
     "frozen": true
    },
    "tags": [
     "context"
    ]
   },
   "source": [
    "## Task 3\n",
    "<p>The sales team wants to run a promotion on upgrades to international travel insurance policies. They only want to send this promotion to customers who have an active, US policy type.</p>\n",
    "<p><img src=\"https://assets.datacamp.com/production/project_1642/img/schema.png\" alt=\"database schema\"></p>\n",
    "<p>Write a query to provide the customer ID and start date for eligible customers. </p>"
   ]
  },
  {
   "cell_type": "code",
   "execution_count": 3,
   "metadata": {
    "dc": {
     "key": "20"
    },
    "tags": [
     "sample_code"
    ]
   },
   "outputs": [
    {
     "name": "stdout",
     "output_type": "stream",
     "text": [
      "10 rows affected.\n"
     ]
    },
    {
     "data": {
      "text/html": [
       "<table>\n",
       "    <tr>\n",
       "        <th>customer_id</th>\n",
       "        <th>start_date</th>\n",
       "    </tr>\n",
       "    <tr>\n",
       "        <td>6</td>\n",
       "        <td>2022-10-09</td>\n",
       "    </tr>\n",
       "    <tr>\n",
       "        <td>11</td>\n",
       "        <td>2022-11-14</td>\n",
       "    </tr>\n",
       "    <tr>\n",
       "        <td>18</td>\n",
       "        <td>2022-12-29</td>\n",
       "    </tr>\n",
       "    <tr>\n",
       "        <td>24</td>\n",
       "        <td>2022-06-11</td>\n",
       "    </tr>\n",
       "    <tr>\n",
       "        <td>26</td>\n",
       "        <td>2022-09-02</td>\n",
       "    </tr>\n",
       "    <tr>\n",
       "        <td>29</td>\n",
       "        <td>2022-12-14</td>\n",
       "    </tr>\n",
       "    <tr>\n",
       "        <td>30</td>\n",
       "        <td>2022-08-06</td>\n",
       "    </tr>\n",
       "    <tr>\n",
       "        <td>40</td>\n",
       "        <td>2022-08-14</td>\n",
       "    </tr>\n",
       "    <tr>\n",
       "        <td>45</td>\n",
       "        <td>2023-03-02</td>\n",
       "    </tr>\n",
       "    <tr>\n",
       "        <td>49</td>\n",
       "        <td>2023-03-25</td>\n",
       "    </tr>\n",
       "</table>"
      ],
      "text/plain": [
       "[(6, datetime.date(2022, 10, 9)),\n",
       " (11, datetime.date(2022, 11, 14)),\n",
       " (18, datetime.date(2022, 12, 29)),\n",
       " (24, datetime.date(2022, 6, 11)),\n",
       " (26, datetime.date(2022, 9, 2)),\n",
       " (29, datetime.date(2022, 12, 14)),\n",
       " (30, datetime.date(2022, 8, 6)),\n",
       " (40, datetime.date(2022, 8, 14)),\n",
       " (45, datetime.date(2023, 3, 2)),\n",
       " (49, datetime.date(2023, 3, 25))]"
      ]
     },
     "execution_count": 3,
     "metadata": {},
     "output_type": "execute_result"
    }
   ],
   "source": [
    "%%sql \n",
    "postgresql:///insurance  \n",
    "\n",
    "-- Keep the two lines above\n",
    "-- Start your answers here..\n",
    "SELECT s.customer_id, p.start_date \n",
    "FROM sales s\n",
    "LEFT JOIN policy p ON s.policy_id = p.policy_id\n",
    "WHERE policy_type = 'US' AND active = 'True'\n",
    "LIMIT 10;"
   ]
  },
  {
   "cell_type": "markdown",
   "metadata": {
    "dc": {
     "key": "28"
    },
    "deletable": false,
    "editable": false,
    "run_control": {
     "frozen": true
    },
    "tags": [
     "context"
    ]
   },
   "source": [
    "## Task 4\n",
    "<p>After the promotion has been sent, the sales team will need to monitor the number of active policy holders by policy type who purchased an upgrade.  </p>\n",
    "<p><img src=\"https://assets.datacamp.com/production/project_1642/img/schema.png\" alt=\"database schema\"></p>\n",
    "<p>Write a query that returns the data for the sales team to monitor. Your output should include <code>policy_type</code> and <code>number_active</code> columns.</p>"
   ]
  },
  {
   "cell_type": "code",
   "execution_count": 4,
   "metadata": {
    "dc": {
     "key": "28"
    },
    "tags": [
     "sample_code"
    ]
   },
   "outputs": [
    {
     "name": "stdout",
     "output_type": "stream",
     "text": [
      "2 rows affected.\n"
     ]
    },
    {
     "data": {
      "text/html": [
       "<table>\n",
       "    <tr>\n",
       "        <th>policy_type</th>\n",
       "        <th>number_active</th>\n",
       "    </tr>\n",
       "    <tr>\n",
       "        <td>US</td>\n",
       "        <td>129</td>\n",
       "    </tr>\n",
       "    <tr>\n",
       "        <td>International</td>\n",
       "        <td>54</td>\n",
       "    </tr>\n",
       "</table>"
      ],
      "text/plain": [
       "[('US', 129), ('International', 54)]"
      ]
     },
     "execution_count": 4,
     "metadata": {},
     "output_type": "execute_result"
    }
   ],
   "source": [
    "%%sql \n",
    "postgresql:///insurance\n",
    "\n",
    "-- Keep the two lines above\n",
    "-- Start your answers here..\n",
    "SELECT policy_type, COUNT(*) AS number_active\n",
    "FROM policy\n",
    "WHERE active = True AND policy_id IN(SELECT s.policy_id\n",
    "FROM sales s\n",
    "LEFT JOIN purchase p ON s.purchase_id = p.purchase_id\n",
    "WHERE purchase_type = 'Upgrade')\n",
    "GROUP BY policy_type;"
   ]
  },
  {
   "cell_type": "code",
   "execution_count": null,
   "metadata": {
    "dc": {
     "key": "5"
    },
    "hide": true,
    "tags": [
     "tests"
    ]
   },
   "outputs": [],
   "source": [
    "%%nose\n",
    "\n",
    "import pandas as pd\n",
    "import numpy as np\n",
    "import re\n",
    "from pandas.api.types import is_numeric_dtype\n",
    "\n",
    "last_output = _\n",
    "\n",
    "test_solution = pd.read_csv('datasets/task1.csv')\n",
    " \n",
    "student_result = last_output.DataFrame().sort_values(by='customer_id')\n",
    "\n",
    "def test_ksa1():  \n",
    "    assert student_result.shape == (1500, 4), \\\n",
    "    \"Clean categorical and text data by manipulating strings. \"\n",
    "    assert (test_solution['location'].str.strip().values == student_result['location'].str.strip().values).all(), \\\n",
    "    \"Clean categorical and text data by manipulating strings. \"\n",
    "         \n",
    "def test_ksa2():\n",
    "    assert student_result.shape == (1500, 4), \\\n",
    "    \"Convert values between data types.\"\n",
    "    assert student_result['age'].dtype == 'int', \\\n",
    "    \"Convert values between data types.\"\n",
    "    assert (test_solution['age'].values == student_result['age'].values).all(), \\\n",
    "    \"Convert values between data types. \""
   ]
  },
  {
   "cell_type": "code",
   "execution_count": null,
   "metadata": {
    "dc": {
     "key": "12"
    },
    "hide": true,
    "tags": [
     "tests"
    ]
   },
   "outputs": [],
   "source": [
    "%%nose\n",
    "\n",
    "import pandas as pd\n",
    "import numpy as np\n",
    "import re\n",
    "from pandas.api.types import is_numeric_dtype\n",
    "\n",
    "last_output = _\n",
    "\n",
    "test_solution = pd.read_csv('datasets/task2.csv')\n",
    "\n",
    "student_result = last_output.DataFrame().sort_values(by='purchase_id')\n",
    "\n",
    "def test_ksa1():  \n",
    "    assert student_result.shape == (1500, 2), \\\n",
    "    \"Identify and replace missing values.\"\n",
    "    assert (test_solution['purchase_type'].str.strip().values == student_result['purchase_type'].str.strip().values).all(), \\\n",
    "    \"Identify and replace missing values.\""
   ]
  },
  {
   "cell_type": "code",
   "execution_count": null,
   "metadata": {
    "dc": {
     "key": "20"
    },
    "hide": true,
    "tags": [
     "tests"
    ]
   },
   "outputs": [],
   "source": [
    "%%nose\n",
    "\n",
    "import pandas as pd\n",
    "import numpy as np\n",
    "import re\n",
    "from pandas.api.types import is_numeric_dtype\n",
    "\n",
    "last_output = _\n",
    "\n",
    "test_solution = pd.read_csv('datasets/task3.csv')\n",
    "\n",
    "student_result = last_output.DataFrame().sort_values(by='customer_id')\n",
    "\n",
    "test_solution['start_date'] = pd.to_datetime(test_solution['start_date'])\n",
    "student_result['start_date'] = pd.to_datetime(student_result['start_date'])\n",
    "\n",
    "def test_ksa1():  \n",
    "    assert student_result.shape == (382, 2), \\\n",
    "    \"Extract data based on different conditions using PostgreSQL.\"\n",
    "    assert (test_solution['customer_id'].values == student_result['customer_id'].values).all(), \\\n",
    "    \"Extract data based on different conditions using PostgreSQL.\"\n",
    "\n",
    "def test_ksa2():\n",
    "    assert student_result.shape == (382, 2), \\\n",
    "        \"Interpret a database schema and combine multiple tables by rows or columns using PostgreSQL.\"\n",
    "    assert (test_solution['start_date'] == student_result['start_date']).all(), \\\n",
    "        \"Interpret a database schema and combine multiple tables by rows or columns using PostgreSQL.\""
   ]
  },
  {
   "cell_type": "code",
   "execution_count": null,
   "metadata": {
    "dc": {
     "key": "28"
    },
    "hide": true,
    "tags": [
     "tests"
    ]
   },
   "outputs": [],
   "source": [
    "%%nose\n",
    "\n",
    "import pandas as pd\n",
    "import numpy as np\n",
    "import re\n",
    "from pandas.api.types import is_numeric_dtype\n",
    "\n",
    "last_output = _\n",
    "\n",
    "test_solution = pd.read_csv('datasets/task4.csv')\n",
    "\n",
    "student_result = last_output.DataFrame().sort_values(by='policy_type',ascending=False)\n",
    "\n",
    "def test_ksa1():  \n",
    "    assert student_result.shape == (2, 2), \\\n",
    "    \"Aggregate numeric, categorical variables and dates by groups using PostgreSQL.\"\n",
    "    assert (test_solution['number_active'].values == student_result['number_active'].values).all(), \\\n",
    "    \"Aggregate numeric, categorical variables and dates by groups using PostgreSQL.\"\n",
    "\n",
    "def test_ksa2():  \n",
    "    assert student_result.shape == (2, 2), \\\n",
    "    \"Interpret a database schema and combine multiple tables by rows or columns using PostgreSQL.\"\n",
    "    assert (test_solution['policy_type'].str.strip().values == student_result['policy_type'].str.strip().values).all(),\\\n",
    "    \"Interpret a database schema and combine multiple tables by rows or columns using PostgreSQL.\""
   ]
  }
 ],
 "metadata": {
  "kernelspec": {
   "display_name": "Python 3 (ipykernel)",
   "language": "python",
   "name": "python3"
  },
  "language_info": {
   "codemirror_mode": {
    "name": "ipython",
    "version": 3
   },
   "file_extension": ".py",
   "mimetype": "text/x-python",
   "name": "python",
   "nbconvert_exporter": "python",
   "pygments_lexer": "ipython3",
   "version": "3.9.7"
  }
 },
 "nbformat": 4,
 "nbformat_minor": 2
}
